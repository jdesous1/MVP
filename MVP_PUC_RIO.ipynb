{
  "nbformat": 4,
  "nbformat_minor": 0,
  "metadata": {
    "colab": {
      "provenance": [],
      "toc_visible": true,
      "include_colab_link": true
    },
    "kernelspec": {
      "name": "python3",
      "display_name": "Python 3"
    },
    "language_info": {
      "name": "python"
    }
  },
  "cells": [
    {
      "cell_type": "markdown",
      "metadata": {
        "id": "view-in-github",
        "colab_type": "text"
      },
      "source": [
        "<a href=\"https://colab.research.google.com/github/jdesous1/MVP-Sprint-1/blob/main/MVP_PUC_RIO.ipynb\" target=\"_parent\"><img src=\"https://colab.research.google.com/assets/colab-badge.svg\" alt=\"Open In Colab\"/></a>"
      ]
    },
    {
      "cell_type": "markdown",
      "source": [
        "MVP PUC RIO: Predição da Quantidade de Alunos a Serem Matriculados em uma Universidade com Base em Dados Históricos"
      ],
      "metadata": {
        "id": "zpUOoxDkXwku"
      }
    },
    {
      "cell_type": "markdown",
      "source": [
        "# MVP de Predição da Quantidade de Alunos a Serem Matriculados em uma Universidade com Base em Dados Históricos\n",
        "\n",
        "## Josafá de Sousa Gomes Júnior"
      ],
      "metadata": {
        "id": "CiXfO5njpvvd"
      }
    },
    {
      "cell_type": "markdown",
      "source": [
        "## 1. Definição do Problema\n"
      ],
      "metadata": {
        "id": "XiGVYF5WquKO"
      }
    },
    {
      "cell_type": "markdown",
      "source": [
        "Os dados selecionados (a partir do primeiro semestre de 2014 até o segundo semestre de 2022) para realização da respectiva análise referem-se a um conjunto histórico dos alunos matriculados em uma Instituição de Ensino Superior. Cada linha do dataset fornecido trata-se de um semestre e sua respectiva quantidade de alunos matriculados (**Atributos: Semestre** - Período do ano em que o aluno está matrículado na Universidade  e **IngressosVestibular** - Total de alunos que entraram na Universidade no respectivo período).\n",
        "\n",
        "A razão pela qual houve esse preocupação está pautada em proporcionar uma melhor experiência ao aluno como melhoria da quantidade de professor por turma (a Universidade possui um padrão de quantidade de docentes por turma), otimização da oferta de disciplinas, enxergar o comportamento para identificar se há padrões, estabelecer planos de ação, reduzir custos, dentre outros. \n",
        "Link do dataset escolhido no github: https://raw.githubusercontent.com/jdesous1/MVP-Sprint-1/main/IngressoMatriculados.csv"
      ],
      "metadata": {
        "id": "Nj-1XGX5rEyo"
      }
    },
    {
      "cell_type": "code",
      "metadata": {
        "id": "RCn8CH4M7wF-"
      },
      "source": [
        "# As bibliotecas abaixo foram as importadas para modelagem dos dados e realização de análise dos mesmos\n",
        "\n",
        "import pandas as pd # utilizada para limpeza, tratamento de dados e análise exploratória de dados\n",
        "import numpy as np # útil para executar várias tarefas matemáticas como integração numérica, diferenciação, interpolação, extrapolação e etc\n",
        "import matplotlib # serve para visualização de dados e plotagem gráfica\n",
        "import matplotlib.pyplot as plt # contém várias funções para criação de gráficos\n",
        "import seaborn as sns # fornece uma interface de alto nível para criação de gráficos estatísticos atraentes e informativos\n",
        "import missingno as ms # serve para tratamento de missings\n",
        "from matplotlib import cm # o \"cm\" representa \"colormap\" ou mapa de cores para serem usados em um gráfico\n",
        "from pandas import set_option\n",
        "from pandas.plotting import scatter_matrix\n",
        "from sklearn.preprocessing import StandardScaler\n",
        "from sklearn.preprocessing import MinMaxScaler\n",
        "from sklearn.model_selection import train_test_split\n",
        "from sklearn.model_selection import KFold\n",
        "from sklearn.model_selection import StratifiedKFold\n",
        "from sklearn.model_selection import cross_val_score\n",
        "from sklearn.model_selection import GridSearchCV\n",
        "from sklearn.metrics import classification_report\n",
        "from sklearn.metrics import confusion_matrix\n",
        "from sklearn.metrics import accuracy_score\n",
        "from sklearn.pipeline import Pipeline\n",
        "from sklearn.linear_model import LogisticRegression\n",
        "from sklearn.tree import DecisionTreeClassifier\n",
        "from sklearn.neighbors import KNeighborsClassifier\n",
        "from sklearn.naive_bayes import GaussianNB\n",
        "from sklearn.svm import SVC\n",
        "from sklearn.ensemble import BaggingClassifier\n",
        "from sklearn.ensemble import RandomForestClassifier\n",
        "from sklearn.ensemble import ExtraTreesClassifier\n",
        "from sklearn.ensemble import VotingClassifier\n",
        "from sklearn.ensemble import AdaBoostClassifier\n",
        "from sklearn.ensemble import GradientBoostingClassifier"
      ],
      "execution_count": 23,
      "outputs": []
    },
    {
      "cell_type": "code",
      "source": [
        "# configuração para não exibir os warnings\n",
        "import warnings\n",
        "warnings.filterwarnings(\"ignore\")"
      ],
      "metadata": {
        "id": "VzCsZo4M8yut"
      },
      "execution_count": 24,
      "outputs": []
    },
    {
      "cell_type": "markdown",
      "source": [
        "## 2. Carga de Dados"
      ],
      "metadata": {
        "id": "0T-2Z_YD9pfv"
      }
    },
    {
      "cell_type": "markdown",
      "source": [
        "A partir do arquivo disponibilizado acima, iremos iniciar algumas análises e visualizações das informações do dataset escolhido afim de explorá-lo e extrair informações suficientemente relevantes.\n",
        "\n",
        "Para este escopo inicial será utilizado o pacote Pandas para exibição do conjunto de linhas iniciais do dataset escolhido"
      ],
      "metadata": {
        "id": "Z7kUX5se97kf"
      }
    },
    {
      "cell_type": "code",
      "source": [
        "# Neste cenário o arquivo csv será importado usando o pacote Pandas através de uma URL\n",
        "\n",
        "# Declaração da URL na qual os dados serão importados\n",
        "url = \"https://raw.githubusercontent.com/jdesous1/MVP-Sprint-1/main/IngressoMatriculados.csv\"\n",
        "\n",
        "# Iremos agora definir o nome da coluna na qual os dados serão atribuídos\n",
        "coluna = ['semest','hist']\n",
        "\n",
        "# Conforme descrito na definição do problema, o período de coleta vai de 2014 à 2022, dessa forma a estrutura ocorrerá conforme segue\n",
        "dados = pd.read_csv(url, names=coluna, skiprows=1, delimiter=',')\n",
        "\n",
        "# O objetivo agora é analisar se a estrutura dos dados está de acordo com o que foi definido no passo acima, estruturando a coluna com seu nome e os respectivos valores\n"
      ],
      "metadata": {
        "id": "sBEQ3SAM_ztL"
      },
      "execution_count": 25,
      "outputs": []
    },
    {
      "cell_type": "code",
      "source": [
        "# Com o uso do código dados.head() será possível ter a visão das 5 primeiras linhas do dataframe\n",
        "dados.head()\n",
        "# Para a coluna semest parametrizamos que o semestre inicial seria o de número 1 e assim sucessivamente até o preenchimento de todas as informações do dataset."
      ],
      "metadata": {
        "id": "CV6CYpjNGzt9",
        "colab": {
          "base_uri": "https://localhost:8080/",
          "height": 206
        },
        "outputId": "04fbf533-5564-4edc-da30-ac66a0ac9fd3"
      },
      "execution_count": 26,
      "outputs": [
        {
          "output_type": "execute_result",
          "data": {
            "text/plain": [
              "   semest  hist\n",
              "0       1  3145\n",
              "1       2  2458\n",
              "2       3  3014\n",
              "3       4  1896\n",
              "4       5  2532"
            ],
            "text/html": [
              "\n",
              "  <div id=\"df-402b3e2c-1b8e-405b-a8b4-d9ad2ccd2b8b\">\n",
              "    <div class=\"colab-df-container\">\n",
              "      <div>\n",
              "<style scoped>\n",
              "    .dataframe tbody tr th:only-of-type {\n",
              "        vertical-align: middle;\n",
              "    }\n",
              "\n",
              "    .dataframe tbody tr th {\n",
              "        vertical-align: top;\n",
              "    }\n",
              "\n",
              "    .dataframe thead th {\n",
              "        text-align: right;\n",
              "    }\n",
              "</style>\n",
              "<table border=\"1\" class=\"dataframe\">\n",
              "  <thead>\n",
              "    <tr style=\"text-align: right;\">\n",
              "      <th></th>\n",
              "      <th>semest</th>\n",
              "      <th>hist</th>\n",
              "    </tr>\n",
              "  </thead>\n",
              "  <tbody>\n",
              "    <tr>\n",
              "      <th>0</th>\n",
              "      <td>1</td>\n",
              "      <td>3145</td>\n",
              "    </tr>\n",
              "    <tr>\n",
              "      <th>1</th>\n",
              "      <td>2</td>\n",
              "      <td>2458</td>\n",
              "    </tr>\n",
              "    <tr>\n",
              "      <th>2</th>\n",
              "      <td>3</td>\n",
              "      <td>3014</td>\n",
              "    </tr>\n",
              "    <tr>\n",
              "      <th>3</th>\n",
              "      <td>4</td>\n",
              "      <td>1896</td>\n",
              "    </tr>\n",
              "    <tr>\n",
              "      <th>4</th>\n",
              "      <td>5</td>\n",
              "      <td>2532</td>\n",
              "    </tr>\n",
              "  </tbody>\n",
              "</table>\n",
              "</div>\n",
              "      <button class=\"colab-df-convert\" onclick=\"convertToInteractive('df-402b3e2c-1b8e-405b-a8b4-d9ad2ccd2b8b')\"\n",
              "              title=\"Convert this dataframe to an interactive table.\"\n",
              "              style=\"display:none;\">\n",
              "        \n",
              "  <svg xmlns=\"http://www.w3.org/2000/svg\" height=\"24px\"viewBox=\"0 0 24 24\"\n",
              "       width=\"24px\">\n",
              "    <path d=\"M0 0h24v24H0V0z\" fill=\"none\"/>\n",
              "    <path d=\"M18.56 5.44l.94 2.06.94-2.06 2.06-.94-2.06-.94-.94-2.06-.94 2.06-2.06.94zm-11 1L8.5 8.5l.94-2.06 2.06-.94-2.06-.94L8.5 2.5l-.94 2.06-2.06.94zm10 10l.94 2.06.94-2.06 2.06-.94-2.06-.94-.94-2.06-.94 2.06-2.06.94z\"/><path d=\"M17.41 7.96l-1.37-1.37c-.4-.4-.92-.59-1.43-.59-.52 0-1.04.2-1.43.59L10.3 9.45l-7.72 7.72c-.78.78-.78 2.05 0 2.83L4 21.41c.39.39.9.59 1.41.59.51 0 1.02-.2 1.41-.59l7.78-7.78 2.81-2.81c.8-.78.8-2.07 0-2.86zM5.41 20L4 18.59l7.72-7.72 1.47 1.35L5.41 20z\"/>\n",
              "  </svg>\n",
              "      </button>\n",
              "      \n",
              "  <style>\n",
              "    .colab-df-container {\n",
              "      display:flex;\n",
              "      flex-wrap:wrap;\n",
              "      gap: 12px;\n",
              "    }\n",
              "\n",
              "    .colab-df-convert {\n",
              "      background-color: #E8F0FE;\n",
              "      border: none;\n",
              "      border-radius: 50%;\n",
              "      cursor: pointer;\n",
              "      display: none;\n",
              "      fill: #1967D2;\n",
              "      height: 32px;\n",
              "      padding: 0 0 0 0;\n",
              "      width: 32px;\n",
              "    }\n",
              "\n",
              "    .colab-df-convert:hover {\n",
              "      background-color: #E2EBFA;\n",
              "      box-shadow: 0px 1px 2px rgba(60, 64, 67, 0.3), 0px 1px 3px 1px rgba(60, 64, 67, 0.15);\n",
              "      fill: #174EA6;\n",
              "    }\n",
              "\n",
              "    [theme=dark] .colab-df-convert {\n",
              "      background-color: #3B4455;\n",
              "      fill: #D2E3FC;\n",
              "    }\n",
              "\n",
              "    [theme=dark] .colab-df-convert:hover {\n",
              "      background-color: #434B5C;\n",
              "      box-shadow: 0px 1px 3px 1px rgba(0, 0, 0, 0.15);\n",
              "      filter: drop-shadow(0px 1px 2px rgba(0, 0, 0, 0.3));\n",
              "      fill: #FFFFFF;\n",
              "    }\n",
              "  </style>\n",
              "\n",
              "      <script>\n",
              "        const buttonEl =\n",
              "          document.querySelector('#df-402b3e2c-1b8e-405b-a8b4-d9ad2ccd2b8b button.colab-df-convert');\n",
              "        buttonEl.style.display =\n",
              "          google.colab.kernel.accessAllowed ? 'block' : 'none';\n",
              "\n",
              "        async function convertToInteractive(key) {\n",
              "          const element = document.querySelector('#df-402b3e2c-1b8e-405b-a8b4-d9ad2ccd2b8b');\n",
              "          const dataTable =\n",
              "            await google.colab.kernel.invokeFunction('convertToInteractive',\n",
              "                                                     [key], {});\n",
              "          if (!dataTable) return;\n",
              "\n",
              "          const docLinkHtml = 'Like what you see? Visit the ' +\n",
              "            '<a target=\"_blank\" href=https://colab.research.google.com/notebooks/data_table.ipynb>data table notebook</a>'\n",
              "            + ' to learn more about interactive tables.';\n",
              "          element.innerHTML = '';\n",
              "          dataTable['output_type'] = 'display_data';\n",
              "          await google.colab.output.renderOutput(dataTable, element);\n",
              "          const docLink = document.createElement('div');\n",
              "          docLink.innerHTML = docLinkHtml;\n",
              "          element.appendChild(docLink);\n",
              "        }\n",
              "      </script>\n",
              "    </div>\n",
              "  </div>\n",
              "  "
            ]
          },
          "metadata": {},
          "execution_count": 26
        }
      ]
    },
    {
      "cell_type": "markdown",
      "source": [
        "## 3. Análise de dados"
      ],
      "metadata": {
        "id": "bhb0g8D4Cpkg"
      }
    },
    {
      "cell_type": "markdown",
      "source": [
        "Definida a estrutura do dataset iremos agora realizar inferências sobre o mesmo buscando extrair o máximo de informações dos dados utilizandos os recursos diponibilizados pelas bibliotecas"
      ],
      "metadata": {
        "id": "HW2s1YMNq9pe"
      }
    },
    {
      "cell_type": "markdown",
      "source": [
        "### 3.1. Dimensão dos dados\n",
        "\n",
        "Nesta etapa será analisada informações relativas ao dataset como atributos, classe, distribuição dos dados e a variabilidade dos valores.\n"
      ],
      "metadata": {
        "id": "PSAei1M_ABBg"
      }
    },
    {
      "cell_type": "code",
      "source": [
        "# Análise dos atributos de dados\n",
        "print(dados.info())"
      ],
      "metadata": {
        "colab": {
          "base_uri": "https://localhost:8080/"
        },
        "id": "JaV9fCxkCL8A",
        "outputId": "95b05139-95b6-44ef-96a6-ef342851b65e"
      },
      "execution_count": 27,
      "outputs": [
        {
          "output_type": "stream",
          "name": "stdout",
          "text": [
            "<class 'pandas.core.frame.DataFrame'>\n",
            "RangeIndex: 18 entries, 0 to 17\n",
            "Data columns (total 2 columns):\n",
            " #   Column  Non-Null Count  Dtype\n",
            "---  ------  --------------  -----\n",
            " 0   semest  18 non-null     int64\n",
            " 1   hist    18 non-null     int64\n",
            "dtypes: int64(2)\n",
            "memory usage: 416.0 bytes\n",
            "None\n"
          ]
        }
      ]
    },
    {
      "cell_type": "markdown",
      "source": [
        "A partir do processamento realizado acima concluímos que nosso dataset não possui valores nulos e todos são do tipo inteiro, além disso, como já estabelecido, vemos o nome das duas colunas definidas (semest e hist)"
      ],
      "metadata": {
        "id": "CrTDEwIwEvLe"
      }
    },
    {
      "cell_type": "code",
      "source": [
        "# Análise da dimensão do dataset\n",
        "print(dados.shape)"
      ],
      "metadata": {
        "colab": {
          "base_uri": "https://localhost:8080/"
        },
        "id": "TbWYQb-9OUSs",
        "outputId": "07de2572-d311-41a9-b919-23308db7fec4"
      },
      "execution_count": 28,
      "outputs": [
        {
          "output_type": "stream",
          "name": "stdout",
          "text": [
            "(18, 2)\n"
          ]
        }
      ]
    },
    {
      "cell_type": "markdown",
      "source": [
        "O resultado acima reforça a análise já realizada, em que observarmos 18 linhas e 2 colunas, ou seja, uma matriz 18 por 2"
      ],
      "metadata": {
        "id": "16EVDUunQPbC"
      }
    },
    {
      "cell_type": "code",
      "source": [
        "# Para conhecer as estatísticas inerentes ao conjunto de dados, mais especificamente, as informações relativas à quantidade de alunos durante todo o período tem-se\n",
        "estatistica = print(round(dados['hist'].describe(), 2))\n",
        " \n"
      ],
      "metadata": {
        "colab": {
          "base_uri": "https://localhost:8080/"
        },
        "id": "Ha_t0fC_QyG3",
        "outputId": "5c09c788-f0c5-4385-c0ef-9abe7eeece8f"
      },
      "execution_count": 29,
      "outputs": [
        {
          "output_type": "stream",
          "name": "stdout",
          "text": [
            "count      18.00\n",
            "mean     2067.61\n",
            "std       713.37\n",
            "min       815.00\n",
            "25%      1479.75\n",
            "50%      2362.00\n",
            "75%      2520.75\n",
            "max      3145.00\n",
            "Name: hist, dtype: float64\n"
          ]
        }
      ]
    },
    {
      "cell_type": "markdown",
      "source": [
        "Nesta análise inicial consideramos 2 casas decimais, porém para efeitos de quantidade de matrícula será interessante deixar sem nenhuma já que estamos tratando de número de inscrições, dessa forma, os tipos de número deixarão de ser decimais.\n"
      ],
      "metadata": {
        "id": "cfc9QlCZVFkb"
      }
    },
    {
      "cell_type": "code",
      "source": [
        "# Rodando novamente o código agora desconsiderando as casas decimais\n",
        "print(dados['hist'].describe().apply(lambda x: format(x, '.0f')))"
      ],
      "metadata": {
        "colab": {
          "base_uri": "https://localhost:8080/"
        },
        "id": "gNhl0uxEV0_u",
        "outputId": "44f281f3-926d-47aa-aad1-929e3646708d"
      },
      "execution_count": 30,
      "outputs": [
        {
          "output_type": "stream",
          "name": "stdout",
          "text": [
            "count      18\n",
            "mean     2068\n",
            "std       713\n",
            "min       815\n",
            "25%      1480\n",
            "50%      2362\n",
            "75%      2521\n",
            "max      3145\n",
            "Name: hist, dtype: object\n"
          ]
        }
      ]
    },
    {
      "cell_type": "markdown",
      "source": [
        "De posse das informações acima nota-se uma grande diferença entre o valor máximo e mínimo, uma média de 2068 alunos matrículados por semestre e desvio padrão de 713 alunos.\n",
        "\n",
        "Agora o dataset será expandido mostrando todos os seus atributos da linha inicial até a final\n"
      ],
      "metadata": {
        "id": "rqK5Gv1n3yNt"
      }
    },
    {
      "cell_type": "code",
      "source": [
        "# Exibição das informações a partir da variável que foi denominada de dados\n",
        "print(dados)"
      ],
      "metadata": {
        "colab": {
          "base_uri": "https://localhost:8080/"
        },
        "id": "kyIejuQt40K8",
        "outputId": "22656cbf-7782-4820-ff84-ed88e48f6fa3"
      },
      "execution_count": 31,
      "outputs": [
        {
          "output_type": "stream",
          "name": "stdout",
          "text": [
            "    semest  hist\n",
            "0        1  3145\n",
            "1        2  2458\n",
            "2        3  3014\n",
            "3        4  1896\n",
            "4        5  2532\n",
            "5        6  1656\n",
            "6        7  2652\n",
            "7        8  1246\n",
            "8        9  2487\n",
            "9       10  1209\n",
            "10      11  2439\n",
            "11      12  1111\n",
            "12      13  2476\n",
            "13      14   815\n",
            "14      15  2285\n",
            "15      16  1491\n",
            "16      17  2829\n",
            "17      18  1476\n"
          ]
        }
      ]
    },
    {
      "cell_type": "markdown",
      "source": [
        "### 3.2. Visualizações Unimodais"
      ],
      "metadata": {
        "id": "kULDyHy8DaE3"
      }
    },
    {
      "cell_type": "markdown",
      "source": [
        "Visualizações unimodais se referem a uma distribuição unimodal de dados em uma visualização gráfica, ou seja, uma distribuição que tem apenas um pico, uma única moda. Essa visualização pode ser feita por meio de um histograma, um gráfico de densidade, um boxplot ou qualquer outra técnica que represente uma distribuição unidimensional de dados\n",
        "\n",
        "\n",
        "Abaixo está demonstrada a **Visualização Gráfica** dos dados junto de sua linha de tendência. Para este caso em específico está sendo arbitrado um polinômio de grau 8 para tentarmos fazer com que a previsão reflita o máximo possível a realidade\n"
      ],
      "metadata": {
        "id": "vCypWtZtgQ4m"
      }
    },
    {
      "cell_type": "code",
      "source": [
        "# Lê o arquivo CSV com os dados\n",
        "df = pd.read_csv('https://raw.githubusercontent.com/jdesous1/MVP-Sprint-1/main/IngressoMatriculados.csv')\n",
        "\n",
        "# Define as colunas 'Ano' e 'Total de Matriculados' como os dados para o gráfico\n",
        "x = df['Semestre']\n",
        "y = df['IngressosVestibular']\n",
        "\n",
        "# Cria o gráfico de linhas\n",
        "plt.plot(x, y)\n",
        "\n",
        "# Adiciona rótulos aos eixos\n",
        "plt.xlabel('Semestre')\n",
        "plt.ylabel('Total de Ingressantes')\n",
        "plt.title('Ingressantes por Semestre')\n",
        "\n",
        "# Adicionando uma linha de tendência no gráfico\n",
        "z = np.polyfit(x, y, 8)\n",
        "p = np.poly1d(z)\n",
        "plt.plot(x, p(x), \"-\")\n",
        "\n",
        "\n",
        "# mostra o gráfico\n",
        "plt.show()"
      ],
      "metadata": {
        "colab": {
          "base_uri": "https://localhost:8080/",
          "height": 472
        },
        "id": "p7cYQyR-4q6O",
        "outputId": "8e6ee39b-7e6c-418a-f980-d3201c6f4b7f"
      },
      "execution_count": 58,
      "outputs": [
        {
          "output_type": "display_data",
          "data": {
            "text/plain": [
              "<Figure size 640x480 with 1 Axes>"
            ],
            "image/png": "[encoded data removed]"
          },
          "metadata": {}
        }
      ]
    },
    {
      "cell_type": "markdown",
      "source": [
        "A partir do gráfico acima, é possível observar um perfil de comportamento de ingressantes por semestre. Nos picos, ou seja, nos semestres ímpares ou que são conhecidos no meio educacional como 2014.1, 2015.1, 2016.1, 2017.1 e assim sucessivamente, há uma tendência de maior quantidade de ingressantes, o que não ocorre nos vales, e todos correspondem a semestres pares, ou seja, 2014.2, \n",
        "2015.2 e 2016.2\n",
        "\n",
        "Dessa forma, fica clara a diferença de movimentação de ingressantes em cada tipo de semestre."
      ],
      "metadata": {
        "id": "WNlnQDESARJt"
      }
    },
    {
      "cell_type": "markdown",
      "source": [
        "Agora será apresentada o **Histograma** dos dataset. Ele é útil para entender como os dados estão distribuídos em relação a um intervalo de valores. O histograma divide os dados em intervalos chamados de \"bins\" e mostra quantas observações estão dentro de cada bin."
      ],
      "metadata": {
        "id": "xZ6iAVm1LHgH"
      }
    },
    {
      "cell_type": "code",
      "source": [
        "# Histograma do Total de Ingressantes\n",
        "var = ['hist']\n",
        "dados2 = pd.read_csv(url, names=var, skiprows=1, delimiter=',')\n",
        "var.hist(figsize = (10,10)))\n",
        "plt.show()"
      ],
      "metadata": {
        "id": "Sh-e0c7sMiw5",
        "outputId": "137fd17a-aee0-4546-f88a-133b861573ed",
        "colab": {
          "base_uri": "https://localhost:8080/",
          "height": 131
        }
      },
      "execution_count": 62,
      "outputs": [
        {
          "output_type": "error",
          "ename": "SyntaxError",
          "evalue": "ignored",
          "traceback": [
            "\u001b[0;36m  File \u001b[0;32m\"<ipython-input-62-5ccc7ee4c910>\"\u001b[0;36m, line \u001b[0;32m4\u001b[0m\n\u001b[0;31m    var.hist(figsize = (10,10)))\u001b[0m\n\u001b[0m                               ^\u001b[0m\n\u001b[0;31mSyntaxError\u001b[0m\u001b[0;31m:\u001b[0m unmatched ')'\n"
          ]
        }
      ]
    }
  ]
}