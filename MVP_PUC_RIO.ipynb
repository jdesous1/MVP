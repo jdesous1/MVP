{
  "nbformat": 4,
  "nbformat_minor": 0,
  "metadata": {
    "colab": {
      "provenance": [],
      "toc_visible": true,
      "include_colab_link": true
    },
    "kernelspec": {
      "name": "python3",
      "display_name": "Python 3"
    },
    "language_info": {
      "name": "python"
    }
  },
  "cells": [
    {
      "cell_type": "markdown",
      "metadata": {
        "id": "view-in-github",
        "colab_type": "text"
      },
      "source": [
        "<a href=\"https://colab.research.google.com/github/jdesous1/MVP-Sprint-1/blob/main/MVP_PUC_RIO.ipynb\" target=\"_parent\"><img src=\"https://colab.research.google.com/assets/colab-badge.svg\" alt=\"Open In Colab\"/></a>"
      ]
    },
    {
      "cell_type": "markdown",
      "source": [
        "MVP PUC RIO: Predição da Quantidade de Alunos a Serem Matriculados em uma Universidade com Base em Dados Históricos"
      ],
      "metadata": {
        "id": "zpUOoxDkXwku"
      }
    },
    {
      "cell_type": "markdown",
      "source": [
        "# MVP de Predição da Quantidade de Alunos a Serem Matriculados em uma Universidade com Base em Dados Históricos\n",
        "\n",
        "## Josafá de Sousa Gomes Júnior"
      ],
      "metadata": {
        "id": "CiXfO5njpvvd"
      }
    },
    {
      "cell_type": "markdown",
      "source": [
        "## 1. Definição do Problema\n"
      ],
      "metadata": {
        "id": "XiGVYF5WquKO"
      }
    },
    {
      "cell_type": "markdown",
      "source": [
        "Os dados selecionados (a partir do primeiro semestre de 2014 até o segundo semestre de 2022) para realização da respectiva análise referem-se a um conjunto histórico dos alunos matriculados em uma Instituição de Ensino Superior. Cada linha do dataset fornecido trata-se de um semestre e sua respectiva quantidade de alunos matriculados (**Atributos: Semestre** - Período do ano em que o aluno está matrículado na Universidade  e **IngressosVestibular** - Total de alunos que entraram na Universidade no respectivo período).\n",
        "\n",
        "A razão pela qual houve esse preocupação está pautada em proporcionar uma melhor experiência ao aluno como melhoria da quantidade de professor por turma (a Universidade possui um padrão de quantidade de docentes por turma), otimização da oferta de disciplinas, enxergar o comportamento para identificar se há padrões, estabelecer planos de ação, reduzir custos, dentre outros. \n",
        "Link do dataset escolhido no github: https://raw.githubusercontent.com/jdesous1/MVP-Sprint-1/main/IngressoMatriculados.csv"
      ],
      "metadata": {
        "id": "Nj-1XGX5rEyo"
      }
    },
    {
      "cell_type": "code",
      "metadata": {
        "id": "RCn8CH4M7wF-"
      },
      "source": [
        "# As bibliotecas abaixo foram as importadas para modelagem dos dados e realização de análise dos mesmos\n",
        "\n",
        "import pandas as pd # utilizada para limpeza, tratamento de dados e análise exploratória de dados\n",
        "import numpy as np # útil para executar várias tarefas matemáticas como integração numérica, diferenciação, interpolação, extrapolação e etc\n",
        "import matplotlib # serve para visualização de dados e plotagem gráfica\n",
        "import matplotlib.pyplot as plt # contém várias funções para criação de gráficos\n",
        "import seaborn as sns # fornece uma interface de alto nível para criação de gráficos estatísticos atraentes e informativos\n",
        "import missingno as ms # serve para tratamento de missings\n",
        "from matplotlib import cm # o \"cm\" representa \"colormap\" ou mapa de cores para serem usados em um gráfico\n",
        "from pandas import set_option\n",
        "from pandas.plotting import scatter_matrix\n",
        "from sklearn.preprocessing import StandardScaler\n",
        "from sklearn.preprocessing import MinMaxScaler\n",
        "from sklearn.model_selection import train_test_split\n",
        "from sklearn.model_selection import KFold\n",
        "from sklearn.model_selection import StratifiedKFold\n",
        "from sklearn.model_selection import cross_val_score\n",
        "from sklearn.model_selection import GridSearchCV\n",
        "from sklearn.metrics import classification_report\n",
        "from sklearn.metrics import confusion_matrix\n",
        "from sklearn.metrics import accuracy_score\n",
        "from sklearn.pipeline import Pipeline\n",
        "from sklearn.linear_model import LogisticRegression\n",
        "from sklearn.tree import DecisionTreeClassifier\n",
        "from sklearn.neighbors import KNeighborsClassifier\n",
        "from sklearn.naive_bayes import GaussianNB\n",
        "from sklearn.svm import SVC\n",
        "from sklearn.ensemble import BaggingClassifier\n",
        "from sklearn.ensemble import RandomForestClassifier\n",
        "from sklearn.ensemble import ExtraTreesClassifier\n",
        "from sklearn.ensemble import VotingClassifier\n",
        "from sklearn.ensemble import AdaBoostClassifier\n",
        "from sklearn.ensemble import GradientBoostingClassifier"
      ],
      "execution_count": null,
      "outputs": []
    },
    {
      "cell_type": "code",
      "source": [
        "# configuração para não exibir os warnings\n",
        "import warnings\n",
        "warnings.filterwarnings(\"ignore\")"
      ],
      "metadata": {
        "id": "VzCsZo4M8yut"
      },
      "execution_count": null,
      "outputs": []
    },
    {
      "cell_type": "markdown",
      "source": [
        "## 2. Carga de Dados"
      ],
      "metadata": {
        "id": "0T-2Z_YD9pfv"
      }
    },
    {
      "cell_type": "markdown",
      "source": [
        "A partir do arquivo disponibilizado acima, iremos iniciar algumas análises e visualizações das informações do dataset escolhido afim de explorá-lo e extrair informações suficientemente relevantes.\n",
        "\n",
        "Para este escopo inicial será utilizado o pacote Pandas para exibição do conjunto de linhas iniciais do dataset escolhido"
      ],
      "metadata": {
        "id": "Z7kUX5se97kf"
      }
    },
    {
      "cell_type": "code",
      "source": [
        "# Neste cenário o arquivo csv será importado usando o pacote Pandas através de uma URL\n",
        "\n",
        "# Declaração da URL na qual os dados serão importados\n",
        "url = \"https://raw.githubusercontent.com/jdesous1/MVP-Sprint-1/main/IngressoMatriculados.csv\"\n",
        "\n",
        "# Iremos agora definir o nome da coluna na qual os dados serão atribuídos\n",
        "coluna = ['semest','hist']\n",
        "\n",
        "# Conforme descrito na definição do problema, o período de coleta vai de 2014 à 2022, dessa forma a estrutura ocorrerá conforme segue\n",
        "dados = pd.read_csv(url, names=coluna, skiprows=1, delimiter=',')\n",
        "\n",
        "# O objetivo agora é analisar se a estrutura dos dados está de acordo com o que foi definido no passo acima, estruturando a coluna com seu nome e os respectivos valores\n"
      ],
      "metadata": {
        "id": "sBEQ3SAM_ztL"
      },
      "execution_count": null,
      "outputs": []
    },
    {
      "cell_type": "code",
      "source": [
        "# Com o uso do código dados.head() será possível ter a visão das 5 primeiras linhas do dataframe\n",
        "dados.head()\n",
        "# Para a coluna semest parametrizamos que o semestre inicial seria o de número 1 e assim sucessivamente até o preenchimento de todas as informações do dataset."
      ],
      "metadata": {
        "id": "CV6CYpjNGzt9",
        "colab": {
          "base_uri": "https://localhost:8080/",
          "height": 206
        },
        "outputId": "5dc879d7-4177-48a1-a83d-4bed9dc31ef5"
      },
      "execution_count": null,
      "outputs": [
        {
          "output_type": "execute_result",
          "data": {
            "text/plain": [
              "   semest  hist\n",
              "0       1  3145\n",
              "1       2  2458\n",
              "2       3  3014\n",
              "3       4  1896\n",
              "4       5  2532"
            ],
            "text/html": [
              "\n",
              "  <div id=\"df-72613b3c-ec8c-4104-8815-996a6a2f59f8\">\n",
              "    <div class=\"colab-df-container\">\n",
              "      <div>\n",
              "<style scoped>\n",
              "    .dataframe tbody tr th:only-of-type {\n",
              "        vertical-align: middle;\n",
              "    }\n",
              "\n",
              "    .dataframe tbody tr th {\n",
              "        vertical-align: top;\n",
              "    }\n",
              "\n",
              "    .dataframe thead th {\n",
              "        text-align: right;\n",
              "    }\n",
              "</style>\n",
              "<table border=\"1\" class=\"dataframe\">\n",
              "  <thead>\n",
              "    <tr style=\"text-align: right;\">\n",
              "      <th></th>\n",
              "      <th>semest</th>\n",
              "      <th>hist</th>\n",
              "    </tr>\n",
              "  </thead>\n",
              "  <tbody>\n",
              "    <tr>\n",
              "      <th>0</th>\n",
              "      <td>1</td>\n",
              "      <td>3145</td>\n",
              "    </tr>\n",
              "    <tr>\n",
              "      <th>1</th>\n",
              "      <td>2</td>\n",
              "      <td>2458</td>\n",
              "    </tr>\n",
              "    <tr>\n",
              "      <th>2</th>\n",
              "      <td>3</td>\n",
              "      <td>3014</td>\n",
              "    </tr>\n",
              "    <tr>\n",
              "      <th>3</th>\n",
              "      <td>4</td>\n",
              "      <td>1896</td>\n",
              "    </tr>\n",
              "    <tr>\n",
              "      <th>4</th>\n",
              "      <td>5</td>\n",
              "      <td>2532</td>\n",
              "    </tr>\n",
              "  </tbody>\n",
              "</table>\n",
              "</div>\n",
              "      <button class=\"colab-df-convert\" onclick=\"convertToInteractive('df-72613b3c-ec8c-4104-8815-996a6a2f59f8')\"\n",
              "              title=\"Convert this dataframe to an interactive table.\"\n",
              "              style=\"display:none;\">\n",
              "        \n",
              "  <svg xmlns=\"http://www.w3.org/2000/svg\" height=\"24px\"viewBox=\"0 0 24 24\"\n",
              "       width=\"24px\">\n",
              "    <path d=\"M0 0h24v24H0V0z\" fill=\"none\"/>\n",
              "    <path d=\"M18.56 5.44l.94 2.06.94-2.06 2.06-.94-2.06-.94-.94-2.06-.94 2.06-2.06.94zm-11 1L8.5 8.5l.94-2.06 2.06-.94-2.06-.94L8.5 2.5l-.94 2.06-2.06.94zm10 10l.94 2.06.94-2.06 2.06-.94-2.06-.94-.94-2.06-.94 2.06-2.06.94z\"/><path d=\"M17.41 7.96l-1.37-1.37c-.4-.4-.92-.59-1.43-.59-.52 0-1.04.2-1.43.59L10.3 9.45l-7.72 7.72c-.78.78-.78 2.05 0 2.83L4 21.41c.39.39.9.59 1.41.59.51 0 1.02-.2 1.41-.59l7.78-7.78 2.81-2.81c.8-.78.8-2.07 0-2.86zM5.41 20L4 18.59l7.72-7.72 1.47 1.35L5.41 20z\"/>\n",
              "  </svg>\n",
              "      </button>\n",
              "      \n",
              "  <style>\n",
              "    .colab-df-container {\n",
              "      display:flex;\n",
              "      flex-wrap:wrap;\n",
              "      gap: 12px;\n",
              "    }\n",
              "\n",
              "    .colab-df-convert {\n",
              "      background-color: #E8F0FE;\n",
              "      border: none;\n",
              "      border-radius: 50%;\n",
              "      cursor: pointer;\n",
              "      display: none;\n",
              "      fill: #1967D2;\n",
              "      height: 32px;\n",
              "      padding: 0 0 0 0;\n",
              "      width: 32px;\n",
              "    }\n",
              "\n",
              "    .colab-df-convert:hover {\n",
              "      background-color: #E2EBFA;\n",
              "      box-shadow: 0px 1px 2px rgba(60, 64, 67, 0.3), 0px 1px 3px 1px rgba(60, 64, 67, 0.15);\n",
              "      fill: #174EA6;\n",
              "    }\n",
              "\n",
              "    [theme=dark] .colab-df-convert {\n",
              "      background-color: #3B4455;\n",
              "      fill: #D2E3FC;\n",
              "    }\n",
              "\n",
              "    [theme=dark] .colab-df-convert:hover {\n",
              "      background-color: #434B5C;\n",
              "      box-shadow: 0px 1px 3px 1px rgba(0, 0, 0, 0.15);\n",
              "      filter: drop-shadow(0px 1px 2px rgba(0, 0, 0, 0.3));\n",
              "      fill: #FFFFFF;\n",
              "    }\n",
              "  </style>\n",
              "\n",
              "      <script>\n",
              "        const buttonEl =\n",
              "          document.querySelector('#df-72613b3c-ec8c-4104-8815-996a6a2f59f8 button.colab-df-convert');\n",
              "        buttonEl.style.display =\n",
              "          google.colab.kernel.accessAllowed ? 'block' : 'none';\n",
              "\n",
              "        async function convertToInteractive(key) {\n",
              "          const element = document.querySelector('#df-72613b3c-ec8c-4104-8815-996a6a2f59f8');\n",
              "          const dataTable =\n",
              "            await google.colab.kernel.invokeFunction('convertToInteractive',\n",
              "                                                     [key], {});\n",
              "          if (!dataTable) return;\n",
              "\n",
              "          const docLinkHtml = 'Like what you see? Visit the ' +\n",
              "            '<a target=\"_blank\" href=https://colab.research.google.com/notebooks/data_table.ipynb>data table notebook</a>'\n",
              "            + ' to learn more about interactive tables.';\n",
              "          element.innerHTML = '';\n",
              "          dataTable['output_type'] = 'display_data';\n",
              "          await google.colab.output.renderOutput(dataTable, element);\n",
              "          const docLink = document.createElement('div');\n",
              "          docLink.innerHTML = docLinkHtml;\n",
              "          element.appendChild(docLink);\n",
              "        }\n",
              "      </script>\n",
              "    </div>\n",
              "  </div>\n",
              "  "
            ]
          },
          "metadata": {},
          "execution_count": 11
        }
      ]
    },
    {
      "cell_type": "markdown",
      "source": [
        "## 3. Análise de dados"
      ],
      "metadata": {
        "id": "bhb0g8D4Cpkg"
      }
    },
    {
      "cell_type": "markdown",
      "source": [
        "Definida a estrutura do dataset iremos agora realizar inferências sobre o mesmo buscando extrair o máximo de informações dos dados utilizandos os recursos diponibilizados pelas bibliotecas"
      ],
      "metadata": {
        "id": "HW2s1YMNq9pe"
      }
    },
    {
      "cell_type": "markdown",
      "source": [
        "### 3.1 Dimensão dos dados\n",
        "\n",
        "Nesta etapa será analisada informações relativas ao dataset como atributos, classe, distribuição dos dados e a variabilidade dos valores.\n"
      ],
      "metadata": {
        "id": "PSAei1M_ABBg"
      }
    },
    {
      "cell_type": "code",
      "source": [
        "# Nesta etapa serão apresentadas detalhes relativos ao dataset\n",
        "print(dados.info())"
      ],
      "metadata": {
        "colab": {
          "base_uri": "https://localhost:8080/"
        },
        "id": "JaV9fCxkCL8A",
        "outputId": "0a9b101c-023d-41e9-bf01-436b3a7f0a17"
      },
      "execution_count": null,
      "outputs": [
        {
          "output_type": "stream",
          "name": "stdout",
          "text": [
            "<class 'pandas.core.frame.DataFrame'>\n",
            "RangeIndex: 18 entries, 0 to 17\n",
            "Data columns (total 2 columns):\n",
            " #   Column  Non-Null Count  Dtype\n",
            "---  ------  --------------  -----\n",
            " 0   semest  18 non-null     int64\n",
            " 1   hist    18 non-null     int64\n",
            "dtypes: int64(2)\n",
            "memory usage: 416.0 bytes\n",
            "None\n"
          ]
        }
      ]
    },
    {
      "cell_type": "markdown",
      "source": [
        "A partir do processamento realizado acima concluímos que nosso dataset possui 18 valores e todos são não nulos e do tipo inteiro, além disso, como já estabelecido, vemos o nome das duas colunas definidas (semest e hist)"
      ],
      "metadata": {
        "id": "CrTDEwIwEvLe"
      }
    }
  ]
}